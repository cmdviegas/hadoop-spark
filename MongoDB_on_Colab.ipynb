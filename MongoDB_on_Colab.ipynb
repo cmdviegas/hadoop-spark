{
  "nbformat": 4,
  "nbformat_minor": 0,
  "metadata": {
    "colab": {
      "provenance": [],
      "authorship_tag": "ABX9TyOlgL8j+zW9UOuYFhw29fRZ",
      "include_colab_link": true
    },
    "kernelspec": {
      "name": "python3",
      "display_name": "Python 3"
    },
    "language_info": {
      "name": "python"
    }
  },
  "cells": [
    {
      "cell_type": "markdown",
      "metadata": {
        "id": "view-in-github",
        "colab_type": "text"
      },
      "source": [
        "<a href=\"https://colab.research.google.com/github/cmdviegas/hadoop-spark/blob/main/MongoDB_on_Colab.ipynb\" target=\"_parent\"><img src=\"https://colab.research.google.com/assets/colab-badge.svg\" alt=\"Open In Colab\"/></a>"
      ]
    },
    {
      "cell_type": "code",
      "source": [
        "!sudo apt install gnupg curl\n",
        "!curl -fsSL https://www.mongodb.org/static/pgp/server-8.0.asc | sudo gpg -o /usr/share/keyrings/mongodb-server-8.0.gpg --dearmor\n",
        "!echo \"deb [ signed-by=/usr/share/keyrings/mongodb-server-8.0.gpg ] http://repo.mongodb.org/apt/debian bookworm/mongodb-org/8.0 main\" | sudo tee /etc/apt/sources.list.d/mongodb-org-8.0.list\n",
        "!sudo apt update && sudo apt install -y mongodb-org"
      ],
      "metadata": {
        "id": "EdnuTe6f-J-P"
      },
      "execution_count": null,
      "outputs": []
    },
    {
      "cell_type": "code",
      "source": [
        "!mkdir -p /content/data"
      ],
      "metadata": {
        "id": "aXDKoc-4_ogW"
      },
      "execution_count": null,
      "outputs": []
    },
    {
      "cell_type": "code",
      "source": [
        "!nohup mongod --port 27017 --noauth --dbpath /content/data & # start mongodb in background"
      ],
      "metadata": {
        "id": "02KBkeqsDarn"
      },
      "execution_count": null,
      "outputs": []
    },
    {
      "cell_type": "code",
      "source": [
        "!ps aux | grep mongod # check if process mongod is running"
      ],
      "metadata": {
        "id": "56qDtE9u59Q3"
      },
      "execution_count": null,
      "outputs": []
    },
    {
      "cell_type": "code",
      "source": [
        "!pip -qq install pymongo\n",
        "from pymongo import MongoClient\n",
        "\n",
        "mongoURI = \"mongodb://localhost:27017/\"\n",
        "client = MongoClient(mongoURI)"
      ],
      "metadata": {
        "id": "auwAjzsr9ZYn"
      },
      "execution_count": null,
      "outputs": []
    },
    {
      "cell_type": "code",
      "source": [
        "db = client.engdados # creates a database\n",
        "db.create_collection('colecao') # creates a collection"
      ],
      "metadata": {
        "id": "2IRwvqfe9jp3"
      },
      "execution_count": null,
      "outputs": []
    },
    {
      "cell_type": "code",
      "source": [
        "client.list_database_names() # list all databases"
      ],
      "metadata": {
        "id": "ovacWnNF-e2d"
      },
      "execution_count": null,
      "outputs": []
    },
    {
      "cell_type": "code",
      "source": [
        "list (db.list_collections()) # list all collections"
      ],
      "metadata": {
        "id": "71MpElRG9xP2"
      },
      "execution_count": null,
      "outputs": []
    }
  ]
}